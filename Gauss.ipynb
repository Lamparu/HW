{
 "cells": [
  {
   "cell_type": "markdown",
   "metadata": {},
   "source": [
    "# Решение СЛАУ с помощью метода Гаусса"
   ]
  },
  {
   "cell_type": "markdown",
   "metadata": {},
   "source": [
    "Создаю дополненную матрицу"
   ]
  },
  {
   "cell_type": "code",
   "execution_count": 151,
   "metadata": {
    "collapsed": true
   },
   "outputs": [],
   "source": [
    "def MatVec(A, h):\n",
    "    for i in range(0, len(A)):\n",
    "        A[i].append(h[i])\n",
    "    return A"
   ]
  },
  {
   "cell_type": "markdown",
   "metadata": {},
   "source": [
    "Привожу уже дополненную матрицу к верхнетреугольному виду. При этом ищу максимальные члены матрицы, чтобы не делить на них, избегая получение очень маденького значения."
   ]
  },
  {
   "cell_type": "code",
   "execution_count": 152,
   "metadata": {},
   "outputs": [],
   "source": [
    "def Gauss(A,h):\n",
    "    \n",
    "    M = MatVec(A,h)\n",
    "    n = len(M)\n",
    "            \n",
    "# поиск максимального числа \n",
    "    for i in range(0, n):\n",
    "        maxi = abs(M[i][i])\n",
    "        maxindex = i\n",
    "\n",
    "        for k in range(i+1, n):\n",
    "            if abs(M[k][i]) > maxi:\n",
    "                maxi  = abs(M[k][i])\n",
    "                maxindex = k\n",
    "\n",
    "# переключаемся на другую строку\n",
    "        for k in range(i, n+1):\n",
    "            swap = M[maxindex][k]\n",
    "            M[maxindex][k] = M[i][k]\n",
    "            M[i][k] = swap\n",
    "\n",
    "# собственно, приведение матрицы к верхнетреугольному виду \n",
    "        for k in range(i+1, n):\n",
    "            c= M[k][i] / M[i][i]\n",
    "\n",
    "            for j in range(i, n+1):\n",
    "                \n",
    "                if i != j:\n",
    "                    M[k][j] -= c * M[i][j]\n",
    "                \n",
    "                else:\n",
    "                    M[k][j]=0\n",
    "\n",
    "# решение уавнения вида Mat * х = h\n",
    "    x = [0 for i in range(n)]\n",
    "    \n",
    "    for i in range(n-1, -1, -1):\n",
    "        x[i] = M[i][n] / M[i][i]\n",
    "        \n",
    "        for k in range(i-1, -1, -1):\n",
    "            M[k][n] -= M[k][i] * x[i]\n",
    "\n",
    "    print ('Решение:', x)\n"
   ]
  },
  {
   "cell_type": "markdown",
   "metadata": {},
   "source": [
    "Для матрицы 2х2:\n"
   ]
  },
  {
   "cell_type": "code",
   "execution_count": 153,
   "metadata": {},
   "outputs": [
    {
     "name": "stdout",
     "output_type": "stream",
     "text": [
      "Решение: [5.0, 0.2]\n"
     ]
    }
   ],
   "source": [
    "m22 = [[0, 5], [1,-10]]\n",
    "v22 = [1, 3]\n",
    "Gauss(m22, v22)"
   ]
  },
  {
   "cell_type": "markdown",
   "metadata": {},
   "source": [
    "Для матрицы 3х3:"
   ]
  },
  {
   "cell_type": "code",
   "execution_count": 155,
   "metadata": {},
   "outputs": [
    {
     "name": "stdout",
     "output_type": "stream",
     "text": [
      "Решение: [1.3873238472140044, 0.0023889358690167826, 0.8678551705360048]\n"
     ]
    }
   ],
   "source": [
    "m33 =[[0, 10000, 37],[-28, -8, 54],[0.0155, 0, 38]]\n",
    "v33 = [56, 8, 33]\n",
    "Gauss(m33, v33)"
   ]
  },
  {
   "cell_type": "markdown",
   "metadata": {},
   "source": [
    "Для матрицы 10х10:"
   ]
  },
  {
   "cell_type": "code",
   "execution_count": 157,
   "metadata": {},
   "outputs": [
    {
     "name": "stdout",
     "output_type": "stream",
     "text": [
      "Решение: [1.0, 1.0, 1.0, 1.0, 1.0, 1.0, 1.0, 1.0, 1.0, 1.0]\n"
     ]
    }
   ],
   "source": [
    "m1010 =[[1, 1, 1, 0, 0, 0, 0, 0, 0, 0], [0, 1, 1, 1, 0, 0, 0, 0, 0, 0], [0, 0, 1, 1, 0, 0, 0, 0, 0, 0], [0, 0, 0, 1, 1, 0, 0, 0, 0, 0], [0, 0, 0, 0, 1, 1, 0, 0, 0, 0], [0, 0, 0, 0, 0, 1, 1, 0, 0, 0], [0, 0, 0, 0, 0, 0, 1, 1, 0, 0], [0, 0, 0, 0, 0, 0, 0, 1, 1, 0], [0, 0, 0, 0, 0, 0, 0, 0, 1, 1], [1, 0, 0, 0, 0, 0, 0, 0, 0, 1]]\n",
    "v1010 = [3, 3] + [2] * 8\n",
    "Gauss(m1010, v1010) "
   ]
  },
  {
   "cell_type": "markdown",
   "metadata": {},
   "source": [
    "The end (˘◡˘)\n"
   ]
  }
 ],
 "metadata": {
  "kernelspec": {
   "display_name": "Python 3",
   "language": "python",
   "name": "python3"
  },
  "language_info": {
   "codemirror_mode": {
    "name": "ipython",
    "version": 3
   },
   "file_extension": ".py",
   "mimetype": "text/x-python",
   "name": "python",
   "nbconvert_exporter": "python",
   "pygments_lexer": "ipython3",
   "version": "3.6.3"
  }
 },
 "nbformat": 4,
 "nbformat_minor": 2
}
