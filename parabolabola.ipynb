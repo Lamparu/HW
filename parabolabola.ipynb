{
 "cells": [
  {
   "cell_type": "markdown",
   "metadata": {},
   "source": [
    "# Поиск минимума с помощью параболической интерполяции\n"
   ]
  },
  {
   "cell_type": "code",
   "execution_count": 89,
   "metadata": {},
   "outputs": [],
   "source": [
    "import math\n",
    "\n",
    "err = 1e-10\n",
    "a = -1.0\n",
    "c = 1.0\n",
    "b = (a+c)/2.0\n",
    "\n",
    "def f(x): \n",
    "    return (x + 0.3)**2 + 10\n",
    "\n",
    "\"\"\"Задаю экстремум параболы и нахожу его х координату\"\"\"    \n",
    "def minpar(f, a, c): \n",
    "    mid = (a+c)/2.0\n",
    "    x = mid + 1.0/2.0 * ( (c-mid)**2 * (f(a)-f(mid)) - (mid-a)**2 * (f(c)-f(mid)))/((c-mid) * (f(a)-f(mid)) + (mid-a) * (f(c)-f(mid)))\n",
    "    return x \n",
    "\n",
    "minx = minpar(f, a, c)"
   ]
  },
  {
   "cell_type": "markdown",
   "metadata": {},
   "source": [
    "Метод поиска минимума:"
   ]
  },
  {
   "cell_type": "code",
   "execution_count": 86,
   "metadata": {
    "collapsed": true
   },
   "outputs": [],
   "source": [
    "def parabol(f, a, b, c):\n",
    "\n",
    "    if abs(f(minx)-f(b)) >= err:  \n",
    "        if f(minx)<f(b) :\n",
    "        \n",
    "            if minx < b:\n",
    "                a = a\n",
    "                c = b\n",
    "                return minpar(f, a, c)\n",
    "        \n",
    "            elif minx > b :\n",
    "                a = b\n",
    "                c = c\n",
    "                return minpar(f, a, c)\n",
    "            \n",
    "        else :\n",
    "            return (a+c)/2.0\n",
    "    else:\n",
    "        return (a+c)/2.0\n",
    "                "
   ]
  },
  {
   "cell_type": "code",
   "execution_count": 87,
   "metadata": {},
   "outputs": [
    {
     "data": {
      "text/plain": [
       "-0.30000000000000404"
      ]
     },
     "execution_count": 87,
     "metadata": {},
     "output_type": "execute_result"
    }
   ],
   "source": [
    "parabol(f, a, b, c)"
   ]
  }
 ],
 "metadata": {
  "kernelspec": {
   "display_name": "Python 3",
   "language": "python",
   "name": "python3"
  },
  "language_info": {
   "codemirror_mode": {
    "name": "ipython",
    "version": 3
   },
   "file_extension": ".py",
   "mimetype": "text/x-python",
   "name": "python",
   "nbconvert_exporter": "python",
   "pygments_lexer": "ipython3",
   "version": "3.6.3"
  }
 },
 "nbformat": 4,
 "nbformat_minor": 2
}
