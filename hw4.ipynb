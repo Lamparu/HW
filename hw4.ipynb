import numpy as np
import sympy
import matplotlib.pyplot as plt
%matplotlib inline #импорт библиотек и магии (ノ°∀°)ノ⌒･*:.｡. .｡.:*･゜ﾟ･*☆	 

"""Полином Лагранжа"""
def lagrange_k(xval, xk, k): #def функция для Лагранжиана
    n = len (xk)
    up = 1.0
    down = 1.0
    for j in range (n):
        if j==k:
            continue 
        up *= (xval - xk[j])
        down *= (xk[k]- xk[j])
    return up/down  

def lagrange(xval, xk, yk):  #def собственно, сам Лагранжиан
    return sum(yk[k] * lagrange_k(xval, xk, k) for k in range(len(xk)))

xk = np.linspace(-1, 1, 25) #обозначим функцию (начальное знач., конечное знач., кол-во точек между)
"""Для менее угловатого вида лучше задавать большое количество точек. Я для удобства использую 25"""
yk = [1.0/(1.0+25.0*xk**2.0) for xk in xk]

xx = np.linspace(-1, 1, 201) #для Лагранжиана (так же)
yy = [lagrange(il, xk, yk) for il in xx]

"""Чем больше кол-во точек между начальным и конечным значениями, тем плавнее график. 
Если эти значения в функции и Лагранжиане совпадают, то графики накладываются."""

plt.grid(True) #Сетка
plt.plot (xx, yy, 'b-') #Лагранжиан - синий
plt.plot (xk, yk, 'r-') #Функция - красный

plt.axis( [ -1, 1, 0, 1.25 ] ) #(xmin, xmax, ymin, ymax)
plt.ylabel('y')
plt.xlabel('x')
plt.title('Lagrange f(x)')

for yf, yl in zip (yk, yy): #проверяю значения в узлах дальше от 0
    print (yf - yl) 
    
"""Чем дальше от 0, тем больше расхождение, если брать количество точек между начальным 
и конечным значениеями для функции Лагранжа больше, чем для введенной функции."""

"""Чебышев"""
q = np.linspace(-1, 1, 25)
r = [1.0/(1.0+25.0*i**2.0) for i in q] 

t = np.linspace(-1, 1, 201)
p = np.polynomial.Chebyshev.fit(q, r, 21) #(х, у, степень Чебышевского полинома)

plt.plot(q, r, 'r-') #функция - красный
plt.plot(t, p(t), 'b-') #чебышев - синий
plt.axis( [ -1, 1, 0, 1.25 ] )
plt.grid(True)
plt.ylabel('y')
plt.xlabel('x')
plt.title('Chebyshev f(x)')

for m, w in zip(r, p(t)): #проверяю значения в узлах 
    print (m - w)
    
"""Полином Чебышева подстраивается лучше, и расхождение меньше, но для этого нужна 
степень побольше (красиво выходит уже при 21). При маленьких степенях полином как 
бы "лежит под" графиком функции."""

"""Сплайн"""
xv = np.linspace(-1, 1, 25) #обозначим функцию (начальное знач., конечное знач., кол-во точек между)
yv = [1.0/(1.0+25.0*xv**2.0) for xv in xv]

from scipy.interpolate import CubicSpline as cs
spl = cs(xv, yv)

xc = np.linspace(-1, 1, 201)
yc = spl(xc)

plt.plot (xv, yv, 'b-') #сплайн - синий
plt.plot (xc, yc, 'r-') #функция - красный
plt.ylabel('y')
plt.xlabel('x')
plt.title('spline f(x)')

for v, u in zip(yv, yc): #проверяю значения в узлах 
    print (v - u)
    
"""Сплайн выглядит лучше всех, да и различия между значениями функций кране мало."""
