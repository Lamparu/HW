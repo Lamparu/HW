{
 "cells": [
  {
   "cell_type": "markdown",
   "metadata": {},
   "source": [
    "# Метод бисекции для поиска корней уравнения |sin(x)|=kx"
   ]
  },
  {
   "cell_type": "code",
   "execution_count": 124,
   "metadata": {
    "collapsed": true
   },
   "outputs": [],
   "source": [
    "import math\n",
    "e = 1e-5\n",
    "ans = []"
   ]
  },
  {
   "cell_type": "markdown",
   "metadata": {
    "collapsed": true
   },
   "source": [
    "Функция:"
   ]
  },
  {
   "cell_type": "code",
   "execution_count": 125,
   "metadata": {
    "collapsed": true
   },
   "outputs": [],
   "source": [
    "def f(x, k):\n",
    "    return abs(math.sin(x)) - k*x "
   ]
  },
  {
   "cell_type": "markdown",
   "metadata": {},
   "source": [
    "Метод бисекцци, основанный на аналитических заключениях:"
   ]
  },
  {
   "cell_type": "code",
   "execution_count": 127,
   "metadata": {
    "collapsed": true
   },
   "outputs": [],
   "source": [
    "def bisection(k):\n",
    "    \n",
    "#задаю начало и конец промежутка, в котором буду искать значения (синус осциллирует).\n",
    "#заметно, что, считая от 0, в промежутке pi/2 у функции лишь 1 корень.\n",
    "    pk = math.pi/2.0\n",
    "    lk = 0.0\n",
    "    \n",
    "    while pk <= 1/k: #считаю до конечного значения пересечения прямой y = 1-kx с y = 0 (x= 1/k) \n",
    "\n",
    "#ввожу новые переменные, чтобы промежутки шли один за другим        \n",
    "        a = lk \n",
    "        b = pk \n",
    "        \n",
    "#суть метода деления пополам        \n",
    "        if f(a,k) * f(b,k) < 0: \n",
    "            c=(a + b) / 2\n",
    "            \n",
    "            while abs(f(c,k)) > e:\n",
    "                c =(a + b) / 2\n",
    "                \n",
    "                if f(c,k) * f(a,k) > 0:\n",
    "                    a=c\n",
    "                \n",
    "                else:\n",
    "                     b=c\n",
    "        \n",
    "            ans.append(c)\n",
    "\n",
    "#добавляю, чтобы изменять промежутки            \n",
    "        lk += math.pi/2 \n",
    "        pk += math.pi/2\n",
    "            \n",
    "    return ans"
   ]
  },
  {
   "cell_type": "markdown",
   "metadata": {
    "collapsed": true
   },
   "source": [
    "Ввожу функцию вывода для разных значений k:"
   ]
  },
  {
   "cell_type": "code",
   "execution_count": 128,
   "metadata": {},
   "outputs": [],
   "source": [
    "def pprintk(k):\n",
    "    \n",
    "    if k == 0:\n",
    "        return \"Бесконечно много решений с шагом pi от 0 в обе стороны\"\n",
    "\n",
    "    elif abs(k) >= 1:\n",
    "        return 0.0\n",
    "\n",
    "    elif k > 0:\n",
    "        sol = [0.0] + bisection(k)\n",
    "        return sol\n",
    "\n",
    "    else:\n",
    "        k = -1*k\n",
    "        minans = [-1 * i for i in bisection(k)]\n",
    "        sol = [0.0] + minans\n",
    "        return sol\n",
    "    \n",
    "    "
   ]
  },
  {
   "cell_type": "markdown",
   "metadata": {},
   "source": [
    "Начинаю делать вычисления: "
   ]
  },
  {
   "cell_type": "code",
   "execution_count": 110,
   "metadata": {},
   "outputs": [
    {
     "name": "stdout",
     "output_type": "stream",
     "text": [
      "[0.0, 2.8523414012741064, 3.4990581140667683, 5.679204340399426, 7.068176006930252, 8.423208348529108]\n"
     ]
    }
   ],
   "source": [
    "pprintk(0.1)"
   ]
  },
  {
   "cell_type": "code",
   "execution_count": 132,
   "metadata": {},
   "outputs": [
    {
     "data": {
      "text/plain": [
       "[0.0, -2.3564341746904525]"
      ]
     },
     "execution_count": 132,
     "metadata": {},
     "output_type": "execute_result"
    }
   ],
   "source": [
    "pprintk(-0.3)"
   ]
  },
  {
   "cell_type": "code",
   "execution_count": 113,
   "metadata": {},
   "outputs": [
    {
     "data": {
      "text/plain": [
       "'Бесконечно много решений с шагом pi от 0 в обе стороны'"
      ]
     },
     "execution_count": 113,
     "metadata": {},
     "output_type": "execute_result"
    }
   ],
   "source": [
    "pprintk(0)"
   ]
  },
  {
   "cell_type": "code",
   "execution_count": 114,
   "metadata": {},
   "outputs": [
    {
     "data": {
      "text/plain": [
       "0.0"
      ]
     },
     "execution_count": 114,
     "metadata": {},
     "output_type": "execute_result"
    }
   ],
   "source": [
    "pprintk(-4)"
   ]
  },
  {
   "cell_type": "markdown",
   "metadata": {},
   "source": [
    "Все получилось ʕ •̀ ω •́ ʔ\t"
   ]
  }
 ],
 "metadata": {
  "kernelspec": {
   "display_name": "Python 3",
   "language": "python",
   "name": "python3"
  },
  "language_info": {
   "codemirror_mode": {
    "name": "ipython",
    "version": 3
   },
   "file_extension": ".py",
   "mimetype": "text/x-python",
   "name": "python",
   "nbconvert_exporter": "python",
   "pygments_lexer": "ipython3",
   "version": "3.6.3"
  }
 },
 "nbformat": 4,
 "nbformat_minor": 2
}
