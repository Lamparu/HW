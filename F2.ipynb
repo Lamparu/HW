{
 "cells": [
  {
   "cell_type": "code",
   "execution_count": 1,
   "metadata": {
    "collapsed": true
   },
   "outputs": [],
   "source": [
    "import numpy as np\n",
    "import cmath\n",
    "import matplotlib.pyplot as plt\n",
    "%matplotlib inline"
   ]
  },
  {
   "cell_type": "code",
   "execution_count": 5,
   "metadata": {},
   "outputs": [
    {
     "data": {
      "image/png": "[encoded data removed]",
      "text/plain": [
       "<matplotlib.figure.Figure at 0x216492ed198>"
      ]
     },
     "metadata": {},
     "output_type": "display_data"
    }
   ],
   "source": [
    "def Newt(a, n):\n",
    "    for i in range(n):\n",
    "        a -= (a**3 - 1) / (3*a**2)\n",
    "    return a\n",
    "\n",
    "\n",
    "x = np.arange(-1, 1, 0.001)\n",
    "y = np.arange(-1, 1, 0.001)\n",
    "xg = []\n",
    "yg = []\n",
    "xy = []\n",
    "yy = []\n",
    "xr = []\n",
    "yr = []\n",
    "for xi in x:\n",
    "    for yi in y:\n",
    "        k = Newt(xi + yi * 1j, 10).imag\n",
    "        if k <= -0.45:\n",
    "            xg.append(xi)\n",
    "            yg.append(yi)\n",
    "        elif k >= 0.45:\n",
    "            xy.append(xi)\n",
    "            yy.append(yi)\n",
    "        else:\n",
    "            xr.append(xi)\n",
    "            yr.append(yi)\n",
    "                \n",
    "figure, regular_plot = plt.subplots()\n",
    "regular_plot.plot(xg, yg, 'g,')\n",
    "regular_plot.plot(xy, yy, 'y,')\n",
    "regular_plot.plot(xr, yr, 'r,')\n",
    "plt.show()"
   ]
  },
  {
   "cell_type": "code",
   "execution_count": null,
   "metadata": {
    "collapsed": true
   },
   "outputs": [],
   "source": []
  },
  {
   "cell_type": "code",
   "execution_count": null,
   "metadata": {
    "collapsed": true
   },
   "outputs": [],
   "source": []
  }
 ],
 "metadata": {
  "kernelspec": {
   "display_name": "Python 3",
   "language": "python",
   "name": "python3"
  },
  "language_info": {
   "codemirror_mode": {
    "name": "ipython",
    "version": 3
   },
   "file_extension": ".py",
   "mimetype": "text/x-python",
   "name": "python",
   "nbconvert_exporter": "python",
   "pygments_lexer": "ipython3",
   "version": "3.6.3"
  }
 },
 "nbformat": 4,
 "nbformat_minor": 2
}
